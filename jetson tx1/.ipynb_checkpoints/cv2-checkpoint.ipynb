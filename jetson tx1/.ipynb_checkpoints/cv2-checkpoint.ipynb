{
 "cells": [
  {
   "cell_type": "code",
   "execution_count": 28,
   "id": "f64268c4",
   "metadata": {},
   "outputs": [
    {
     "name": "stdout",
     "output_type": "stream",
     "text": [
      "[[150 151 151 ... 189 190 190]\n",
      " [150 150 151 ... 191 190 189]\n",
      " [150 150 151 ... 187 184 183]\n",
      " ...\n",
      " [ 52  52  52 ... 140 140 139]\n",
      " [ 53  53  53 ... 138 137 137]\n",
      " [ 53  53  53 ... 139 138 137]]\n"
     ]
    }
   ],
   "source": [
    "import cv2\n",
    "import numpy as np\n",
    "img=cv2.imread('../find_shape/image.jpg',1)\n",
    "# gray=cv2.threshold(img,126,255,cv2.THRESH_BINARY)\n",
    "gray = cv2.cvtColor(img, cv2.COLOR_BGR2GRAY)\n",
    "print(gray)\n",
    "sobx=cv2.Sobel(gray,cv2.CV_64F,1,0,ksize=3)\n",
    "cv2.imshow(\"img\",gray)\n",
    "cv2.waitKey()\n",
    "cv2.destroyAllWindows()"
   ]
  },
  {
   "cell_type": "code",
   "execution_count": 18,
   "id": "52cab0cf",
   "metadata": {},
   "outputs": [
    {
     "data": {
      "text/plain": [
       "-1"
      ]
     },
     "execution_count": 18,
     "metadata": {},
     "output_type": "execute_result"
    }
   ],
   "source": [
    "img = cv2.imread('../find_shape/image.jpg')\n",
    "gray = cv2.cvtColor(img, cv2.COLOR_BGR2GRAY)\n",
    "sob = cv2.Sobel(gray, -1, 1, 0, ksize=3)\n",
    "cv2.imshow(\"img\", gray)\n",
    "cv2.waitKey()\n"
   ]
  }
 ],
 "metadata": {
  "kernelspec": {
   "display_name": "Python 3 (ipykernel)",
   "language": "python",
   "name": "python3"
  },
  "language_info": {
   "codemirror_mode": {
    "name": "ipython",
    "version": 3
   },
   "file_extension": ".py",
   "mimetype": "text/x-python",
   "name": "python",
   "nbconvert_exporter": "python",
   "pygments_lexer": "ipython3",
   "version": "3.6.9"
  }
 },
 "nbformat": 4,
 "nbformat_minor": 5
}
